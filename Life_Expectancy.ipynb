{
 "cells": [
  {
   "cell_type": "markdown",
   "metadata": {},
   "source": [
    "# PROJECT 3 CLEANED VERSION"
   ]
  },
  {
   "cell_type": "code",
   "execution_count": null,
   "metadata": {},
   "outputs": [],
   "source": [
    "import numpy as np\n",
    "import pandas as pd\n",
    "import seaborn as sns\n",
    "import scipy.stats as stats\n",
    "from sklearn import metrics\n",
    "import statsmodels.api as sm\n",
    "import matplotlib.pyplot as plt\n",
    "from statsmodels.formula.api import ols\n",
    "from sklearn.linear_model import Lasso, Ridge\n",
    "from sklearn.linear_model import LinearRegression\n",
    "from sklearn.preprocessing import PolynomialFeatures\n",
    "from sklearn.model_selection import train_test_split\n",
    "from statsmodels.stats.outliers_influence import variance_inflation_factor\n",
    "\n",
    "\n",
    "\n",
    "%matplotlib inline"
   ]
  },
  {
   "cell_type": "code",
   "execution_count": null,
   "metadata": {},
   "outputs": [],
   "source": [
    "df = pd.read_csv('Life Expectancy Data.csv')"
   ]
  },
  {
   "cell_type": "markdown",
   "metadata": {},
   "source": [
    "we are going to be binning years to see if we can use it as a categorical value, so we drop 2015 since it has less values than the other years, then bin our 15 year period into 3 year groups\n",
    " "
   ]
  },
  {
   "cell_type": "code",
   "execution_count": null,
   "metadata": {},
   "outputs": [],
   "source": [
    "#drop last year due to bad data\n",
    "df = df[df['Year'] < 2015]"
   ]
  },
  {
   "cell_type": "code",
   "execution_count": null,
   "metadata": {},
   "outputs": [],
   "source": [
    "#we drop the following countries due to missing values\n",
    "country_drops = [\"Czechia\", \"Côte d'Ivoire\" ,\"Democratic People's\" ,\"Republic of Korea\",\n",
    "                 \"Democratic Republic of the Congo\",\"Marshall Islands\",\"Monaco\", \"Niue\",\n",
    "                 \"Republic of Korea\",\"Republic of Moldova\",\"Somalia\",\"Tuvala\",'Nauru',\n",
    "                 \"United Republic of Tanzania\", \"Democratic People's Republic of Korea\",\n",
    "                 \"The former Yugoslav republic of Macedonia\",'Cook Islands','Dominica',\n",
    "                 'Palau','Saint Kitts and Nevis','San Marino','Tuvalu','Sudan','South Sudan',\n",
    "                \"Montenegro\", 'Timor-Leste']                         \n",
    "\n",
    "df = df[~df[\"Country\"].isin(country_drops)]"
   ]
  },
  {
   "cell_type": "markdown",
   "metadata": {},
   "source": [
    "### Cleaning the DataFrame"
   ]
  },
  {
   "cell_type": "code",
   "execution_count": null,
   "metadata": {},
   "outputs": [],
   "source": [
    "# we need to create a map from country to continent\n",
    "continents = '''Asia Europe Europe Africa Oceania Europe Africa Americas Americas Americas Asia Americas Oceania Europe Asia Americas Asia Asia Americas Europe Europe Americas Africa Americas Asia Americas Americas Europe Africa Americas Asia Europe Africa Africa Asia Africa Americas Africa Americas Africa Africa Americas Asia Americas Africa Africa Africa Oceania Americas Africa Europe Americas Americas Asia Europe Europe Africa Americas Americas Americas Africa Americas Africa Africa Europe Africa Americas Europe Oceania Europe Europe Americas Oceania Africa Africa Asia Europe Africa Europe Europe Americas Americas Americas Oceania Americas Europe Africa Africa Americas Americas Europe Americas Asia Europe Europe Asia Asia Asia Asia Europe Europe Asia Europe Americas Asia Europe Asia Asia Africa Oceania Asia Asia Asia Asia Asia Europe Asia Africa Africa Africa Europe Europe Europe Asia Europe Africa Africa Asia Asia Africa Europe Oceania Americas Africa Africa Africa Americas Oceania Europe Europe Asia Europe Americas Africa Africa Asia Africa Oceania Asia Europe Oceania Oceania Americas Africa Africa Oceania Oceania Oceania Europe Asia Asia Oceania Asia Americas Oceania Americas Americas Asia Oceania Europe Europe Americas Asia Africa Europe Europe Africa Americas Africa Americas Americas Americas Americas Americas Oceania Europe Africa Asia Africa Europe Africa Africa Asia Americas Europe Europe Oceania Africa Africa Africa Europe Asia Africa Americas Europe Africa Europe Europe Asia Asia Asia Africa Asia Asia Africa Oceania Oceania Americas Africa Asia Asia Americas Oceania Africa Europe Asia Europe Americas Americas Asia Oceania Americas Asia Americas Americas Oceania Africa Asia Africa Africa'''\n",
    "continents = continents.split()\n",
    "\n",
    "country = '''Afghanistan, Ã…land, Islands, Albania, Algeria, American Samoa, Andorra, Angola, Anguilla, Antigua and Barbuda, Argentina, Armenia, Aruba, Australia, Austria, Azerbaijan, Bahamas, Bahrain, Bangladesh, Barbados, Belarus, Belgium, Belize, Benin, Bermuda, Bhutan, Bolivia (Plurinational State of), Bonaire Sint Eustatius and Saba, Bosnia and Herzegovina, Botswana, Brazil, Brunei, Darussalam, Bulgaria, Burkina Faso, Burundi, Cambodia, Cameroon, Canada, Cabo Verde, Cayman Islands, Central African Republic, Chad, Chile, China, Colombia, Comoros, Congo, Congo (Democratic Republic of the), Cook Islands, Costa Rica, CÃ´te d'Ivoire, Croatia, Cuba, CuraÃ§ao, Cyprus, Czech Republic, Denmark, Djibouti, Dominica, Dominican Republic, Ecuador, Egypt, El Salvador, Equatorial Guinea, Eritrea, Estonia, Ethiopia Falkland Islands (Malvinas), Faroe Islands, Fiji, Finland, France, French Guiana, French Polynesia, Gabon, Gambia, Georgia, Germany, Ghana, Gibraltar, Greece, Greenland, Grenada, Guadeloupe, Guam, Guatemala, Guernsey, Guinea, Guinea-Bissau, Guyana, Haiti, Holy See, Honduras, Hong Kong, Hungary, Iceland, India, Indonesia, Iran (Islamic Republic of), Iraq, Ireland, Isle of Man, Israel, Italy, Jamaica, Japan, Jersey, Jordan, Kazakhstan, Kenya, Kiribati, Korea (Democratic People's Republic of), Korea (Republic of), Kuwait, Kyrgyzstan, Lao People's Democratic Republic, Latvia, Lebanon,Lesotho, Liberia, Libya, Liechtenstein, Lithuania, Luxembourg, Macao, Macedonia (the former Yugoslav Republic of), Madagascar, Malawi, Malaysia, Maldives, Mali, Malta, Marshall Islands, Martinique, Mauritania, Mauritius, Mayotte, Mexico, Micronesia (Federated States of), Moldova (Republic of), Monaco, Mongolia, Montenegro, Montserrat, Morocco, Mozambique, Myanmar, Namibia, Nauru, Nepal, Netherlands, New Caledonia, New Zealand, Nicaragua, Niger, Nigeria, Niue, Norfolk Island, Northern Mariana Islands, Norway, Oman, Pakistan, Palau, Palestine State of, Panama, Papua New Guinea, Paraguay, Peru, Philippines, Pitcairn, Poland, Portugal, Puerto Rico, Qatar, RÃ©union, Romania, Russian Federation, Rwanda, Saint BarthÃ©lemy, Saint Helena Ascension and Tristan da Cunha, Saint Kitts and Nevis, Saint Lucia, Saint Martin (French part), Saint Pierre and Miquelon, Saint Vincent and the Grenadines, Samoa, San Marino, Sao Tome and Principe, Saudi Arabia, Senegal, Serbia, Seychelles, Sierra Leone, Singapore, Sint Maarten (Dutch part), Slovakia, Slovenia, Solomon Islands, Somalia, South Africa, South Sudan, Spain, Sri Lanka, Sudan, Suriname, Svalbard and Jan Mayen, Swaziland, Sweden, Switzerland, Syrian Arab Republic, Taiwan Province of China, Tajikistan, Tanzania, United Republic of Thailand, Timor-Leste, Togo, Tokelau, Tonga, Trinidad and Tobago, Tunisia, Turkey, Turkmenistan, Turks and Caicos Islands, Tuvalu, Uganda, Ukraine, United Arab Emirates, United Kingdom of Great Britain and Northern Ireland, United States of America, Uruguay, Uzbekistan, Vanuatu, Venezuela (Bolivarian Republic of), Viet Nam, Virgin Islands (British), Virgin Islands (U.S.), Wallis and Futuna, Western Sahara, Yemen, Zambia, Zimbabwe'''\n",
    "country = country.split(', ')\n",
    "\n"
   ]
  },
  {
   "cell_type": "code",
   "execution_count": null,
   "metadata": {},
   "outputs": [],
   "source": [
    "#create a dictionary then perform the mapping\n",
    "d ={}\n",
    "for i in range(len(country)):\n",
    "    d[country[i]] = continents[i]\n",
    "    \n",
    "df['cont'] = df['Country'].apply(lambda x: d[x] if x in d.keys() else np.nan)"
   ]
  },
  {
   "cell_type": "markdown",
   "metadata": {},
   "source": [
    "###### Impute missing values"
   ]
  },
  {
   "cell_type": "code",
   "execution_count": null,
   "metadata": {},
   "outputs": [],
   "source": [
    "#Only UK and USA are missing education so since they are known as being educated countries, \n",
    "#I impute their missing values at the 75th percentile\n",
    "school_75th_percentile = 14.2\n",
    "df['Schooling'].fillna(school_75th_percentile,inplace=True)"
   ]
  },
  {
   "cell_type": "code",
   "execution_count": null,
   "metadata": {},
   "outputs": [],
   "source": [
    "#impute Iraqs missing value with its own mean\n",
    "iraq_mean = df[df['Country'] == 'Iraq']['Total expenditure'].mean()"
   ]
  },
  {
   "cell_type": "markdown",
   "metadata": {},
   "source": [
    "###### Drop unnecessary columns"
   ]
  },
  {
   "cell_type": "code",
   "execution_count": null,
   "metadata": {},
   "outputs": [],
   "source": [
    "#drop columns due to Multicollinearity\n",
    "df.drop(['Hepatitis B','Adult Mortality',' thinness 5-9 years',' BMI ','infant deaths','Diphtheria ','Polio'],axis=1,inplace=True)"
   ]
  },
  {
   "cell_type": "code",
   "execution_count": null,
   "metadata": {},
   "outputs": [],
   "source": [
    "#drop columns due to incorrect data or unneeded data\n",
    "df.drop(['Year','GDP','Population','Status','Country','percentage expenditure','Income composition of resources'],axis=1,inplace=True)"
   ]
  },
  {
   "cell_type": "markdown",
   "metadata": {},
   "source": [
    "###### Create Dummies and bin variables"
   ]
  },
  {
   "cell_type": "code",
   "execution_count": null,
   "metadata": {},
   "outputs": [],
   "source": [
    "cont_df = pd.get_dummies(df['cont'],prefix='continent',drop_first=True)\n",
    "df = pd.concat([df,cont_df],axis=1)\n",
    "df.drop(['cont'],axis=1,inplace=True)"
   ]
  },
  {
   "cell_type": "code",
   "execution_count": null,
   "metadata": {},
   "outputs": [],
   "source": [
    "df.to_csv('life.csv')"
   ]
  },
  {
   "cell_type": "markdown",
   "metadata": {},
   "source": [
    "# Modeling"
   ]
  },
  {
   "cell_type": "code",
   "execution_count": null,
   "metadata": {},
   "outputs": [],
   "source": [
    "#if you need to reload the dataset\n",
    "df = pd.read_csv('life.csv')\n",
    "df.drop('Unnamed: 0',axis=1,inplace=True)"
   ]
  },
  {
   "cell_type": "code",
   "execution_count": null,
   "metadata": {
    "scrolled": false
   },
   "outputs": [],
   "source": [
    "#scatter matrix of continues columns in dataframe\n",
    "pd.plotting.scatter_matrix(df.iloc[:,:8],figsize=(16,16));"
   ]
  },
  {
   "cell_type": "code",
   "execution_count": null,
   "metadata": {},
   "outputs": [],
   "source": [
    "#creates a triangle shaped correlation matrix with color coded values\n",
    "\n",
    "plt.style.use('default')\n",
    "corr = df.corr()\n",
    "\n",
    "# Generate a mask for the upper triangle\n",
    "mask = np.zeros_like(corr, dtype=np.bool)\n",
    "mask[np.triu_indices_from(mask)] = True\n",
    "\n",
    "# Set up the matplotlib figure\n",
    "f, ax = plt.subplots(figsize=(6, 6))\n",
    "\n",
    "# Generate a custom diverging colormap\n",
    "cmap = sns.color_palette(\"colorblind\", 10)\n",
    "\n",
    "# Draw the heatmap with the mask and correct aspect ratio\n",
    "sns.heatmap(corr, mask=mask, cmap=cmap, vmax=.3, center=0,\n",
    "            square=True, linewidths=.5, cbar_kws={\"shrink\": .5})\n"
   ]
  },
  {
   "cell_type": "code",
   "execution_count": null,
   "metadata": {
    "scrolled": true
   },
   "outputs": [],
   "source": [
    "df.hist(figsize=(10,10));"
   ]
  },
  {
   "cell_type": "markdown",
   "metadata": {},
   "source": [
    "# Modeling in StatsModels"
   ]
  },
  {
   "cell_type": "code",
   "execution_count": null,
   "metadata": {},
   "outputs": [],
   "source": [
    "#Drop column with highest p-value and rerun until all p-values below alpha threshold\n",
    "cols = ['Life_expectancy', 'Alcohol', 'Measles', 'under_five_deaths','total_expenditure',\n",
    "        'HIV_AIDS','thinness_1_19_years', 'Schooling', 'continent_Americas',\n",
    "       'continent_Asia', 'continent_Europe', 'continent_Oceania']\n",
    "df.columns = cols\n",
    "cols.pop(0)\n",
    "formula = 'Life_expectancy~' + '+'.join(cols)"
   ]
  },
  {
   "cell_type": "code",
   "execution_count": null,
   "metadata": {},
   "outputs": [],
   "source": [
    "#we take the log of the following columns to try and normalize each \n",
    "for col in ['HIV_AIDS','thinness_1_19_years']:\n",
    "    df[col] = df[col].apply(lambda x: np.log(x))"
   ]
  },
  {
   "cell_type": "code",
   "execution_count": null,
   "metadata": {
    "scrolled": true
   },
   "outputs": [],
   "source": [
    "model = ols(formula=formula, data=df).fit()"
   ]
  },
  {
   "cell_type": "code",
   "execution_count": null,
   "metadata": {
    "scrolled": true
   },
   "outputs": [],
   "source": [
    "model.summary()"
   ]
  },
  {
   "cell_type": "code",
   "execution_count": null,
   "metadata": {},
   "outputs": [],
   "source": [
    "#columns dropped due to high p-values\n",
    "df.drop(['total_expenditure','Measles', 'under_five_deaths'],axis=1, inplace=True)"
   ]
  },
  {
   "cell_type": "code",
   "execution_count": null,
   "metadata": {
    "scrolled": true
   },
   "outputs": [],
   "source": [
    "#Regression Plots\n",
    "fig = plt.figure(figsize=(15,8))\n",
    "fig = sm.graphics.plot_regress_exog(model,exog_idx='Schooling', fig=fig)\n"
   ]
  },
  {
   "cell_type": "code",
   "execution_count": null,
   "metadata": {},
   "outputs": [],
   "source": [
    "#QQ Plot\n",
    "residuals = model.resid\n",
    "fig = sm.graphics.qqplot(residuals, dist=stats.norm, line='45', fit=True)\n"
   ]
  },
  {
   "cell_type": "markdown",
   "metadata": {},
   "source": [
    "# Modeling in Sklearn"
   ]
  },
  {
   "cell_type": "markdown",
   "metadata": {},
   "source": [
    "### Linear Regression"
   ]
  },
  {
   "cell_type": "code",
   "execution_count": null,
   "metadata": {},
   "outputs": [],
   "source": [
    "X = df.drop('Life_expectancy', axis=1)\n",
    "y = df['Life_expectancy']"
   ]
  },
  {
   "cell_type": "code",
   "execution_count": null,
   "metadata": {},
   "outputs": [],
   "source": [
    "x_train,x_test,y_train,y_test = train_test_split(X,y,test_size=.2,random_state=4)"
   ]
  },
  {
   "cell_type": "code",
   "execution_count": null,
   "metadata": {},
   "outputs": [],
   "source": [
    "linreg = LinearRegression()\n",
    "linreg.fit(x_train,y_train)"
   ]
  },
  {
   "cell_type": "code",
   "execution_count": null,
   "metadata": {},
   "outputs": [],
   "source": [
    "y_pred = linreg.predict(x_test)\n",
    "print('RMSE: {}'.format(np.sqrt(metrics.mean_squared_error(y_test,y_pred))))\n",
    "print('R-Squared: {}'.format(np.sqrt(metrics.r2_score(y_test,y_pred))))"
   ]
  },
  {
   "cell_type": "code",
   "execution_count": null,
   "metadata": {},
   "outputs": [],
   "source": [
    "linreg.coef_, linreg.intercept_"
   ]
  },
  {
   "cell_type": "code",
   "execution_count": null,
   "metadata": {},
   "outputs": [],
   "source": [
    "#Check the variable inflation factor\n",
    "cols = ['Alcohol', 'HIV_AIDS',\n",
    "       'thinness_1_19_years', 'Schooling', 'continent_Americas',\n",
    "       'continent_Asia', 'continent_Europe', 'continent_Oceania']\n",
    "vif = [variance_inflation_factor(X.values, i) for i in range(X.shape[1])]\n",
    "list(zip(cols, vif))"
   ]
  },
  {
   "cell_type": "markdown",
   "metadata": {},
   "source": [
    "### Ridge Linear Regression"
   ]
  },
  {
   "cell_type": "code",
   "execution_count": null,
   "metadata": {},
   "outputs": [],
   "source": [
    "ridge = Ridge(alpha=0.2)\n",
    "ridge.fit(x_train, y_train)"
   ]
  },
  {
   "cell_type": "code",
   "execution_count": null,
   "metadata": {},
   "outputs": [],
   "source": [
    "y_pred = ridge.predict(x_test)\n",
    "print('RMSE: {}'.format(np.sqrt(metrics.mean_squared_error(y_test,y_pred))))\n",
    "print('R-Squared: {}'.format(np.sqrt(metrics.r2_score(y_test,y_pred))))"
   ]
  },
  {
   "cell_type": "code",
   "execution_count": null,
   "metadata": {},
   "outputs": [],
   "source": [
    "ridge.coef_,ridge.intercept_"
   ]
  },
  {
   "cell_type": "markdown",
   "metadata": {},
   "source": [
    "### Lasso Linear Regression"
   ]
  },
  {
   "cell_type": "code",
   "execution_count": null,
   "metadata": {},
   "outputs": [],
   "source": [
    "lasso = Lasso(alpha=0.2)\n",
    "lasso.fit(x_train, y_train)"
   ]
  },
  {
   "cell_type": "code",
   "execution_count": null,
   "metadata": {},
   "outputs": [],
   "source": [
    "y_pred = lasso.predict(x_test)\n",
    "print('RMSE: {}'.format(np.sqrt(metrics.mean_squared_error(y_test,y_pred))))\n",
    "print('R-Squared: {}'.format(np.sqrt(metrics.r2_score(y_test,y_pred))))"
   ]
  },
  {
   "cell_type": "code",
   "execution_count": null,
   "metadata": {},
   "outputs": [],
   "source": [
    "lasso.coef_,lasso.intercept_"
   ]
  },
  {
   "cell_type": "markdown",
   "metadata": {},
   "source": [
    "### Polynomial Linear Regression"
   ]
  },
  {
   "cell_type": "code",
   "execution_count": null,
   "metadata": {},
   "outputs": [],
   "source": [
    "poly_feat = PolynomialFeatures(degree = 2)\n",
    "x_train_poly = poly_feat.fit_transform(x_train)"
   ]
  },
  {
   "cell_type": "code",
   "execution_count": null,
   "metadata": {},
   "outputs": [],
   "source": [
    "poly_reg = LinearRegression()\n",
    "poly_reg.fit(x_train_poly,y_train)"
   ]
  },
  {
   "cell_type": "code",
   "execution_count": null,
   "metadata": {},
   "outputs": [],
   "source": [
    "x_test_poly = poly_feat.transform(x_test)\n",
    "y_pred = poly_reg.predict(x_test_poly)\n",
    "print('RMSE: {}'.format(np.sqrt(metrics.mean_squared_error(y_test,y_pred))))\n",
    "print('R-Squared: {}'.format(np.sqrt(metrics.r2_score(y_test,y_pred))))"
   ]
  },
  {
   "cell_type": "code",
   "execution_count": null,
   "metadata": {},
   "outputs": [],
   "source": [
    "poly_reg.coef_, poly_reg.intercept_"
   ]
  },
  {
   "cell_type": "markdown",
   "metadata": {},
   "source": [
    "# Polynomial Ridge Linear Regression"
   ]
  },
  {
   "cell_type": "code",
   "execution_count": null,
   "metadata": {},
   "outputs": [],
   "source": [
    "ridge_poly = Ridge(alpha=0.2)\n",
    "ridge_poly.fit(x_train_poly, y_train)"
   ]
  },
  {
   "cell_type": "code",
   "execution_count": null,
   "metadata": {},
   "outputs": [],
   "source": [
    "y_pred = ridge_poly.predict(x_test_poly)\n",
    "print('RMSE: {}'.format(np.sqrt(metrics.mean_squared_error(y_test,y_pred))))\n",
    "print('R-Squared: {}'.format(np.sqrt(metrics.r2_score(y_test,y_pred))))"
   ]
  },
  {
   "cell_type": "code",
   "execution_count": null,
   "metadata": {},
   "outputs": [],
   "source": [
    "ridge_poly.coef_,ridge_poly.intercept_"
   ]
  },
  {
   "cell_type": "markdown",
   "metadata": {},
   "source": [
    "# Polynomial Lasso Linear Regression\n"
   ]
  },
  {
   "cell_type": "code",
   "execution_count": null,
   "metadata": {},
   "outputs": [],
   "source": [
    "lasso_poly = Lasso(alpha=0.2)\n",
    "lasso_poly.fit(x_train_poly, y_train)"
   ]
  },
  {
   "cell_type": "code",
   "execution_count": null,
   "metadata": {},
   "outputs": [],
   "source": [
    "y_pred = lasso_poly.predict(x_test_poly)\n",
    "print('RMSE: {}'.format(np.sqrt(metrics.mean_squared_error(y_test,y_pred))))\n",
    "print('R-Squared: {}'.format(np.sqrt(metrics.r2_score(y_test,y_pred))))"
   ]
  },
  {
   "cell_type": "code",
   "execution_count": null,
   "metadata": {},
   "outputs": [],
   "source": [
    "lasso_poly.coef_,lasso_poly.intercept_"
   ]
  }
 ],
 "metadata": {
  "kernelspec": {
   "display_name": "Python 3",
   "language": "python",
   "name": "python3"
  },
  "language_info": {
   "codemirror_mode": {
    "name": "ipython",
    "version": 3
   },
   "file_extension": ".py",
   "mimetype": "text/x-python",
   "name": "python",
   "nbconvert_exporter": "python",
   "pygments_lexer": "ipython3",
   "version": "3.7.4"
  }
 },
 "nbformat": 4,
 "nbformat_minor": 2
}
